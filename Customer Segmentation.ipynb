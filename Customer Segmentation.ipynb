{
 "cells": [
  {
   "cell_type": "code",
   "execution_count": 1,
   "metadata": {},
   "outputs": [],
   "source": [
    "import pandas as pd\n",
    "import numpy as np\n",
    "import matplotlib.pyplot as plt\n",
    "import seaborn as sns"
   ]
  },
  {
   "cell_type": "code",
   "execution_count": 2,
   "metadata": {},
   "outputs": [],
   "source": [
    "df_2009 = pd.read_excel('online_retail_II.xlsx', sheet_name='Year 2009-2010')\n",
    "df_2010 = pd.read_excel('online_retail_II.xlsx', sheet_name='Year 2010-2011')\n",
    "df = pd.concat([df_2009, df_2010])"
   ]
  },
  {
   "cell_type": "code",
   "execution_count": 3,
   "metadata": {},
   "outputs": [],
   "source": [
    "#월별로 date 데이터 변환\n",
    "df['InvoiceDate_month'] = df['InvoiceDate'].map(lambda date: date.strftime('%Y-%m'))"
   ]
  },
  {
   "cell_type": "code",
   "execution_count": 4,
   "metadata": {},
   "outputs": [],
   "source": [
    "#일별로 date 데이터 변환\n",
    "df['InvoiceDate_date'] = df['InvoiceDate'].map(lambda date: date.strftime('%Y-%m-%d'))"
   ]
  },
  {
   "cell_type": "code",
   "execution_count": 5,
   "metadata": {},
   "outputs": [],
   "source": [
    "#매출 컬럼 생성\n",
    "df['sales'] = df['Quantity'] * df['Price']"
   ]
  },
  {
   "cell_type": "code",
   "execution_count": 6,
   "metadata": {},
   "outputs": [
    {
     "name": "stdout",
     "output_type": "stream",
     "text": [
      "<class 'pandas.core.frame.DataFrame'>\n",
      "Int64Index: 1067371 entries, 0 to 541909\n",
      "Data columns (total 11 columns):\n",
      " #   Column             Non-Null Count    Dtype         \n",
      "---  ------             --------------    -----         \n",
      " 0   Invoice            1067371 non-null  object        \n",
      " 1   StockCode          1067371 non-null  object        \n",
      " 2   Description        1062989 non-null  object        \n",
      " 3   Quantity           1067371 non-null  int64         \n",
      " 4   InvoiceDate        1067371 non-null  datetime64[ns]\n",
      " 5   Price              1067371 non-null  float64       \n",
      " 6   Customer ID        824364 non-null   float64       \n",
      " 7   Country            1067371 non-null  object        \n",
      " 8   InvoiceDate_month  1067371 non-null  object        \n",
      " 9   InvoiceDate_date   1067371 non-null  object        \n",
      " 10  sales              1067371 non-null  float64       \n",
      "dtypes: datetime64[ns](1), float64(3), int64(1), object(6)\n",
      "memory usage: 97.7+ MB\n"
     ]
    }
   ],
   "source": [
    "df.info()"
   ]
  },
  {
   "cell_type": "markdown",
   "metadata": {},
   "source": [
    "# RFM 프레임워크\n",
    "    \n",
    "Recency - Frequency - Monetary라는 세 가지 요소를 가지고 고객을 분류하고자 함.\n",
    "    \n",
    "* Recency: 가장 최근에 결제한 날짜\n",
    "* Frequency: 구매 횟수\n",
    "* Monetary: 매출"
   ]
  },
  {
   "cell_type": "code",
   "execution_count": 7,
   "metadata": {},
   "outputs": [],
   "source": [
    "#가장 최근 구매한 날짜\n",
    "recent_date = pd.DataFrame(df.groupby(['Customer ID'])['InvoiceDate_date'].max().reset_index())"
   ]
  },
  {
   "cell_type": "code",
   "execution_count": 8,
   "metadata": {},
   "outputs": [
    {
     "data": {
      "text/plain": [
       "'2009-12-01'"
      ]
     },
     "execution_count": 8,
     "metadata": {},
     "output_type": "execute_result"
    }
   ],
   "source": [
    "min(recent_date.InvoiceDate_date)"
   ]
  },
  {
   "cell_type": "code",
   "execution_count": 9,
   "metadata": {},
   "outputs": [
    {
     "data": {
      "text/plain": [
       "'2011-12-09'"
      ]
     },
     "execution_count": 9,
     "metadata": {},
     "output_type": "execute_result"
    }
   ],
   "source": [
    "max(recent_date.InvoiceDate_date)"
   ]
  },
  {
   "cell_type": "code",
   "execution_count": 10,
   "metadata": {},
   "outputs": [],
   "source": [
    "# 최근 3개월 동안 결제했는지로 recency 결정\n",
    "recent_date['recency'] = recent_date.InvoiceDate_date > '2010-11-09'"
   ]
  },
  {
   "cell_type": "code",
   "execution_count": 11,
   "metadata": {},
   "outputs": [],
   "source": [
    "# Frequency: 고객별 주문건수 확인\n",
    "freq = pd.DataFrame(df.groupby(['Customer ID'])['Invoice'].count()).reset_index()"
   ]
  },
  {
   "cell_type": "code",
   "execution_count": 12,
   "metadata": {},
   "outputs": [],
   "source": [
    "# Monetary: 고객별 주문금액 집계\n",
    "monetary = pd.DataFrame(df.groupby(['Customer ID'])['sales'].sum()).reset_index()"
   ]
  },
  {
   "cell_type": "code",
   "execution_count": 13,
   "metadata": {},
   "outputs": [],
   "source": [
    "rf = pd.merge(recent_date, freq, how='right', on='Customer ID')\n",
    "rfm = pd.merge(rf, monetary, how='right', on='Customer ID')"
   ]
  },
  {
   "cell_type": "code",
   "execution_count": 14,
   "metadata": {},
   "outputs": [],
   "source": [
    "del rfm['InvoiceDate_date']"
   ]
  },
  {
   "cell_type": "markdown",
   "metadata": {},
   "source": [
    "# KMeans Clustering\n",
    "\n",
    "* KMeans 알고리즘을 이용해 고객을 세분화해봅니다.\n",
    "* 먼저 적정 수준의 그룹 수를 정한 뒤 그 그룹 개수로 고객을 세분화합니다."
   ]
  },
  {
   "cell_type": "code",
   "execution_count": 15,
   "metadata": {},
   "outputs": [],
   "source": [
    "from sklearn.cluster import KMeans"
   ]
  },
  {
   "cell_type": "code",
   "execution_count": 16,
   "metadata": {},
   "outputs": [],
   "source": [
    "rfm = pd.get_dummies(rfm, columns=['recency'], drop_first = True)"
   ]
  },
  {
   "cell_type": "code",
   "execution_count": 17,
   "metadata": {},
   "outputs": [],
   "source": [
    "rfm.set_index('Customer ID', inplace=True)"
   ]
  },
  {
   "cell_type": "code",
   "execution_count": 18,
   "metadata": {},
   "outputs": [],
   "source": [
    "inertia = []\n",
    "\n",
    "for i in range(2,10):\n",
    "    model = KMeans(n_clusters=i)\n",
    "    model.fit(rfm)\n",
    "    inertia.append(model.inertia_)"
   ]
  },
  {
   "cell_type": "code",
   "execution_count": 19,
   "metadata": {},
   "outputs": [
    {
     "data": {
      "text/plain": [
       "<AxesSubplot:>"
      ]
     },
     "execution_count": 19,
     "metadata": {},
     "output_type": "execute_result"
    },
    {
     "data": {
      "image/png": "[encoded data removed]",
      "text/plain": [
       "<Figure size 432x288 with 1 Axes>"
      ]
     },
     "metadata": {
      "needs_background": "light"
     },
     "output_type": "display_data"
    }
   ],
   "source": [
    "sns.lineplot(x=list(range(2,10)), y=inertia)"
   ]
  },
  {
   "cell_type": "markdown",
   "metadata": {},
   "source": [
    "* inertia 값의 기울기가 더이상 크게 꺾이지 않은 지점으로 클러스터 개수를 정함\n",
    "* 적정 클러스터의 개수 5개로 정하고 다시 클러스터링 진행"
   ]
  },
  {
   "cell_type": "code",
   "execution_count": 20,
   "metadata": {},
   "outputs": [
    {
     "data": {
      "text/plain": [
       "KMeans(n_clusters=5)"
      ]
     },
     "execution_count": 20,
     "metadata": {},
     "output_type": "execute_result"
    }
   ],
   "source": [
    "model = KMeans(n_clusters=5)\n",
    "model.fit(rfm)"
   ]
  },
  {
   "cell_type": "code",
   "execution_count": 2,
   "metadata": {},
   "outputs": [],
   "source": [
    "# 그룹별 라벨 값을 기존 데이터프레임에 'group' 컬럼으로 지정\n",
    "rfm['group'] = model.labels_"
   ]
  },
  {
   "cell_type": "code",
   "execution_count": 22,
   "metadata": {},
   "outputs": [
    {
     "data": {
      "text/html": [
       "<div>\n",
       "<style scoped>\n",
       "    .dataframe tbody tr th:only-of-type {\n",
       "        vertical-align: middle;\n",
       "    }\n",
       "\n",
       "    .dataframe tbody tr th {\n",
       "        vertical-align: top;\n",
       "    }\n",
       "\n",
       "    .dataframe thead th {\n",
       "        text-align: right;\n",
       "    }\n",
       "</style>\n",
       "<table border=\"1\" class=\"dataframe\">\n",
       "  <thead>\n",
       "    <tr style=\"text-align: right;\">\n",
       "      <th></th>\n",
       "      <th>Invoice</th>\n",
       "    </tr>\n",
       "    <tr>\n",
       "      <th>group</th>\n",
       "      <th></th>\n",
       "    </tr>\n",
       "  </thead>\n",
       "  <tbody>\n",
       "    <tr>\n",
       "      <th>0</th>\n",
       "      <td>5584</td>\n",
       "    </tr>\n",
       "    <tr>\n",
       "      <th>1</th>\n",
       "      <td>5</td>\n",
       "    </tr>\n",
       "    <tr>\n",
       "      <th>2</th>\n",
       "      <td>2</td>\n",
       "    </tr>\n",
       "    <tr>\n",
       "      <th>3</th>\n",
       "      <td>27</td>\n",
       "    </tr>\n",
       "    <tr>\n",
       "      <th>4</th>\n",
       "      <td>324</td>\n",
       "    </tr>\n",
       "  </tbody>\n",
       "</table>\n",
       "</div>"
      ],
      "text/plain": [
       "       Invoice\n",
       "group         \n",
       "0         5584\n",
       "1            5\n",
       "2            2\n",
       "3           27\n",
       "4          324"
      ]
     },
     "execution_count": 22,
     "metadata": {},
     "output_type": "execute_result"
    }
   ],
   "source": [
    "#그룹별 고객의 수 확인\n",
    "pd.DataFrame(rfm.groupby('group')['Invoice'].count())"
   ]
  },
  {
   "cell_type": "code",
   "execution_count": 23,
   "metadata": {},
   "outputs": [
    {
     "data": {
      "text/html": [
       "<div>\n",
       "<style scoped>\n",
       "    .dataframe tbody tr th:only-of-type {\n",
       "        vertical-align: middle;\n",
       "    }\n",
       "\n",
       "    .dataframe tbody tr th {\n",
       "        vertical-align: top;\n",
       "    }\n",
       "\n",
       "    .dataframe thead th {\n",
       "        text-align: right;\n",
       "    }\n",
       "</style>\n",
       "<table border=\"1\" class=\"dataframe\">\n",
       "  <thead>\n",
       "    <tr style=\"text-align: right;\">\n",
       "      <th></th>\n",
       "      <th>group</th>\n",
       "      <th>Invoice</th>\n",
       "      <th>sales</th>\n",
       "      <th>recency_True</th>\n",
       "    </tr>\n",
       "  </thead>\n",
       "  <tbody>\n",
       "    <tr>\n",
       "      <th>0</th>\n",
       "      <td>0</td>\n",
       "      <td>97.462751</td>\n",
       "      <td>1352.327728</td>\n",
       "      <td>0.760387</td>\n",
       "    </tr>\n",
       "    <tr>\n",
       "      <th>1</th>\n",
       "      <td>1</td>\n",
       "      <td>3976.600000</td>\n",
       "      <td>232620.822000</td>\n",
       "      <td>1.000000</td>\n",
       "    </tr>\n",
       "    <tr>\n",
       "      <th>2</th>\n",
       "      <td>2</td>\n",
       "      <td>2479.000000</td>\n",
       "      <td>560778.645000</td>\n",
       "      <td>1.000000</td>\n",
       "    </tr>\n",
       "    <tr>\n",
       "      <th>3</th>\n",
       "      <td>3</td>\n",
       "      <td>1973.814815</td>\n",
       "      <td>76720.727111</td>\n",
       "      <td>1.000000</td>\n",
       "    </tr>\n",
       "    <tr>\n",
       "      <th>4</th>\n",
       "      <td>4</td>\n",
       "      <td>623.450617</td>\n",
       "      <td>14632.016426</td>\n",
       "      <td>0.978395</td>\n",
       "    </tr>\n",
       "  </tbody>\n",
       "</table>\n",
       "</div>"
      ],
      "text/plain": [
       "   group      Invoice          sales  recency_True\n",
       "0      0    97.462751    1352.327728      0.760387\n",
       "1      1  3976.600000  232620.822000      1.000000\n",
       "2      2  2479.000000  560778.645000      1.000000\n",
       "3      3  1973.814815   76720.727111      1.000000\n",
       "4      4   623.450617   14632.016426      0.978395"
      ]
     },
     "execution_count": 23,
     "metadata": {},
     "output_type": "execute_result"
    }
   ],
   "source": [
    "# 고객층별 구매 건수 / 구매액 / 최근 구매 여부 평균 값 확인\n",
    "summary = rfm.groupby('group').mean().reset_index()\n",
    "summary"
   ]
  },
  {
   "cell_type": "code",
   "execution_count": 24,
   "metadata": {},
   "outputs": [
    {
     "data": {
      "text/plain": [
       "<AxesSubplot:xlabel='group', ylabel='recency_True'>"
      ]
     },
     "execution_count": 24,
     "metadata": {},
     "output_type": "execute_result"
    },
    {
     "data": {
      "image/png": "[encoded data removed]",
      "text/plain": [
       "<Figure size 432x288 with 1 Axes>"
      ]
     },
     "metadata": {
      "needs_background": "light"
     },
     "output_type": "display_data"
    }
   ],
   "source": [
    "# 고객층별 최근 구매 여부의 평균값\n",
    "sns.barplot(x='group', y='recency_True', data=summary)"
   ]
  },
  {
   "cell_type": "code",
   "execution_count": 25,
   "metadata": {},
   "outputs": [
    {
     "data": {
      "text/plain": [
       "<AxesSubplot:xlabel='group', ylabel='Invoice'>"
      ]
     },
     "execution_count": 25,
     "metadata": {},
     "output_type": "execute_result"
    },
    {
     "data": {
      "image/png": "[encoded data removed]",
      "text/plain": [
       "<Figure size 432x288 with 1 Axes>"
      ]
     },
     "metadata": {
      "needs_background": "light"
     },
     "output_type": "display_data"
    }
   ],
   "source": [
    "# 고객층별 구매 건수 boxplot 시각화\n",
    "sns.boxplot(x='group', y='Invoice', data=rfm)"
   ]
  },
  {
   "cell_type": "code",
   "execution_count": 26,
   "metadata": {},
   "outputs": [
    {
     "data": {
      "text/plain": [
       "<AxesSubplot:xlabel='group', ylabel='sales'>"
      ]
     },
     "execution_count": 26,
     "metadata": {},
     "output_type": "execute_result"
    },
    {
     "data": {
      "image/png": "[encoded data removed]",
      "text/plain": [
       "<Figure size 432x288 with 1 Axes>"
      ]
     },
     "metadata": {
      "needs_background": "light"
     },
     "output_type": "display_data"
    }
   ],
   "source": [
    "# 고객층별 구매액 boxplot 시각화\n",
    "sns.boxplot(x='group', y='sales', data=rfm)"
   ]
  },
  {
   "cell_type": "markdown",
   "metadata": {},
   "source": [
    "## 고객 그룹별 요약\n",
    "* 0번 그룹: 최근 구매한 비율이 낮고 구매 건수 및 구매액이 모두 낮은 그룹\n",
    "* 1번 그룹: 최근 구매한 비율이 100%에 달하고, 구매 건수가 비교적 많으나 구매액은 크게 높지 않은 고객층. 즉 자주 구매하지만 구매금액은 크지 않음.\n",
    "* 2번 그룹: 최근 구매한 비율이 100%에 달하고, 구매 건수기 비교적 많으며 구매액이 최상위인 VIP 고객\n",
    "* 3번 그룹: 최근 구매한 비율이 100%에 달하고, 구매 건수는 다소 낮으며 구매액도 낮은 고객층.\n",
    "* 4번 그룹: 최근 구매 비율이 98%에 달하나 구매건수 및 구매액이 적은 그룹.\n",
    "\n",
    "## 시사점\n",
    "\n",
    "* 0번 그룹에 속한 회원이 다수를 차지해 고객 충성도가 낮은 것으로 파악됨.\n",
    "* 3번/4번 그룹은 최근 구매 비율이 높으나 구매 건수/구매액 모두 적어 구매 금액별 쿠폰 발급 등으로 매출을 유도할 필요가 있어 보임.\n",
    "* 2번 그룹처럼 VIP 성향을 보이는 고객이 어떤 품목을 구매했는지 확인하고 이들이 원하는 제품을 관리해야 함."
   ]
  }
 ],
 "metadata": {
  "kernelspec": {
   "display_name": "Python 3",
   "language": "python",
   "name": "python3"
  },
  "language_info": {
   "codemirror_mode": {
    "name": "ipython",
    "version": 3
   },
   "file_extension": ".py",
   "mimetype": "text/x-python",
   "name": "python",
   "nbconvert_exporter": "python",
   "pygments_lexer": "ipython3",
   "version": "3.8.8"
  }
 },
 "nbformat": 4,
 "nbformat_minor": 4
}
