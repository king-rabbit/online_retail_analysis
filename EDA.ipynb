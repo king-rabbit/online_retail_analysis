{
 "cells": [
  {
   "cell_type": "code",
   "execution_count": 1,
   "id": "5d2f8859",
   "metadata": {},
   "outputs": [],
   "source": [
    "import pandas as pd\n",
    "import numpy as np\n",
    "import matplotlib.pyplot as plt\n",
    "%matplotlib inline"
   ]
  },
  {
   "cell_type": "code",
   "execution_count": 2,
   "id": "386faed9",
   "metadata": {},
   "outputs": [],
   "source": [
    "df_2009 = pd.read_excel('online_retail_II.xlsx', sheet_name='Year 2009-2010')\n",
    "df_2010 = pd.read_excel('online_retail_II.xlsx', sheet_name='Year 2010-2011')\n",
    "df = pd.concat([df_2009, df_2010])"
   ]
  },
  {
   "cell_type": "markdown",
   "id": "61dc054b",
   "metadata": {},
   "source": [
    "## 데이터 확인\n",
    "- InvoiceNo: 주문번호\n",
    "- StockCode: 제품코드\n",
    "- Description: 제품설명\n",
    "- Quantity: 주문수량\n",
    "- InvoiceDate: 주문일\n",
    "- UnitPrice: 제품단가\n",
    "- CustomerID: 고객아이디\n",
    "- Country: 국가"
   ]
  },
  {
   "cell_type": "code",
   "execution_count": 3,
   "id": "f5d604ed",
   "metadata": {},
   "outputs": [
    {
     "data": {
      "text/html": [
       "<div>\n",
       "<style scoped>\n",
       "    .dataframe tbody tr th:only-of-type {\n",
       "        vertical-align: middle;\n",
       "    }\n",
       "\n",
       "    .dataframe tbody tr th {\n",
       "        vertical-align: top;\n",
       "    }\n",
       "\n",
       "    .dataframe thead th {\n",
       "        text-align: right;\n",
       "    }\n",
       "</style>\n",
       "<table border=\"1\" class=\"dataframe\">\n",
       "  <thead>\n",
       "    <tr style=\"text-align: right;\">\n",
       "      <th></th>\n",
       "      <th>Invoice</th>\n",
       "      <th>StockCode</th>\n",
       "      <th>Description</th>\n",
       "      <th>Quantity</th>\n",
       "      <th>InvoiceDate</th>\n",
       "      <th>Price</th>\n",
       "      <th>Customer ID</th>\n",
       "      <th>Country</th>\n",
       "    </tr>\n",
       "  </thead>\n",
       "  <tbody>\n",
       "    <tr>\n",
       "      <th>0</th>\n",
       "      <td>489434</td>\n",
       "      <td>85048</td>\n",
       "      <td>15CM CHRISTMAS GLASS BALL 20 LIGHTS</td>\n",
       "      <td>12</td>\n",
       "      <td>2009-12-01 07:45:00</td>\n",
       "      <td>6.95</td>\n",
       "      <td>13085.0</td>\n",
       "      <td>United Kingdom</td>\n",
       "    </tr>\n",
       "    <tr>\n",
       "      <th>1</th>\n",
       "      <td>489434</td>\n",
       "      <td>79323P</td>\n",
       "      <td>PINK CHERRY LIGHTS</td>\n",
       "      <td>12</td>\n",
       "      <td>2009-12-01 07:45:00</td>\n",
       "      <td>6.75</td>\n",
       "      <td>13085.0</td>\n",
       "      <td>United Kingdom</td>\n",
       "    </tr>\n",
       "    <tr>\n",
       "      <th>2</th>\n",
       "      <td>489434</td>\n",
       "      <td>79323W</td>\n",
       "      <td>WHITE CHERRY LIGHTS</td>\n",
       "      <td>12</td>\n",
       "      <td>2009-12-01 07:45:00</td>\n",
       "      <td>6.75</td>\n",
       "      <td>13085.0</td>\n",
       "      <td>United Kingdom</td>\n",
       "    </tr>\n",
       "    <tr>\n",
       "      <th>3</th>\n",
       "      <td>489434</td>\n",
       "      <td>22041</td>\n",
       "      <td>RECORD FRAME 7\" SINGLE SIZE</td>\n",
       "      <td>48</td>\n",
       "      <td>2009-12-01 07:45:00</td>\n",
       "      <td>2.10</td>\n",
       "      <td>13085.0</td>\n",
       "      <td>United Kingdom</td>\n",
       "    </tr>\n",
       "    <tr>\n",
       "      <th>4</th>\n",
       "      <td>489434</td>\n",
       "      <td>21232</td>\n",
       "      <td>STRAWBERRY CERAMIC TRINKET BOX</td>\n",
       "      <td>24</td>\n",
       "      <td>2009-12-01 07:45:00</td>\n",
       "      <td>1.25</td>\n",
       "      <td>13085.0</td>\n",
       "      <td>United Kingdom</td>\n",
       "    </tr>\n",
       "  </tbody>\n",
       "</table>\n",
       "</div>"
      ],
      "text/plain": [
       "  Invoice StockCode                          Description  Quantity  \\\n",
       "0  489434     85048  15CM CHRISTMAS GLASS BALL 20 LIGHTS        12   \n",
       "1  489434    79323P                   PINK CHERRY LIGHTS        12   \n",
       "2  489434    79323W                  WHITE CHERRY LIGHTS        12   \n",
       "3  489434     22041         RECORD FRAME 7\" SINGLE SIZE         48   \n",
       "4  489434     21232       STRAWBERRY CERAMIC TRINKET BOX        24   \n",
       "\n",
       "          InvoiceDate  Price  Customer ID         Country  \n",
       "0 2009-12-01 07:45:00   6.95      13085.0  United Kingdom  \n",
       "1 2009-12-01 07:45:00   6.75      13085.0  United Kingdom  \n",
       "2 2009-12-01 07:45:00   6.75      13085.0  United Kingdom  \n",
       "3 2009-12-01 07:45:00   2.10      13085.0  United Kingdom  \n",
       "4 2009-12-01 07:45:00   1.25      13085.0  United Kingdom  "
      ]
     },
     "execution_count": 3,
     "metadata": {},
     "output_type": "execute_result"
    }
   ],
   "source": [
    "df.head(5)"
   ]
  },
  {
   "cell_type": "code",
   "execution_count": 4,
   "id": "98ed8154",
   "metadata": {},
   "outputs": [
    {
     "name": "stdout",
     "output_type": "stream",
     "text": [
      "<class 'pandas.core.frame.DataFrame'>\n",
      "Int64Index: 1067371 entries, 0 to 541909\n",
      "Data columns (total 8 columns):\n",
      " #   Column       Non-Null Count    Dtype         \n",
      "---  ------       --------------    -----         \n",
      " 0   Invoice      1067371 non-null  object        \n",
      " 1   StockCode    1067371 non-null  object        \n",
      " 2   Description  1062989 non-null  object        \n",
      " 3   Quantity     1067371 non-null  int64         \n",
      " 4   InvoiceDate  1067371 non-null  datetime64[ns]\n",
      " 5   Price        1067371 non-null  float64       \n",
      " 6   Customer ID  824364 non-null   float64       \n",
      " 7   Country      1067371 non-null  object        \n",
      "dtypes: datetime64[ns](1), float64(2), int64(1), object(4)\n",
      "memory usage: 73.3+ MB\n"
     ]
    }
   ],
   "source": [
    "df.info()"
   ]
  },
  {
   "cell_type": "code",
   "execution_count": 5,
   "id": "dc0d0928",
   "metadata": {},
   "outputs": [
    {
     "data": {
      "text/plain": [
       "Invoice             0\n",
       "StockCode           0\n",
       "Description      4382\n",
       "Quantity            0\n",
       "InvoiceDate         0\n",
       "Price               0\n",
       "Customer ID    243007\n",
       "Country             0\n",
       "dtype: int64"
      ]
     },
     "execution_count": 5,
     "metadata": {},
     "output_type": "execute_result"
    }
   ],
   "source": [
    "#결측치 확인\n",
    "df.isnull().sum() #고객ID가 누락된 행이 24만건"
   ]
  },
  {
   "cell_type": "code",
   "execution_count": 6,
   "id": "f4c21154",
   "metadata": {},
   "outputs": [
    {
     "name": "stdout",
     "output_type": "stream",
     "text": [
      "2009-12-01 07:45:00  |  2011-12-09 12:50:00\n"
     ]
    }
   ],
   "source": [
    "#데이터 기간 확인\n",
    "print(min(df['InvoiceDate']), ' | ', max(df['InvoiceDate']))"
   ]
  },
  {
   "cell_type": "code",
   "execution_count": 7,
   "id": "b1543f6b",
   "metadata": {},
   "outputs": [],
   "source": [
    "#월별로 date 데이터 변환\n",
    "df['InvoiceDate_month'] = df['InvoiceDate'].map(lambda date: date.strftime('%Y%m'))"
   ]
  },
  {
   "cell_type": "code",
   "execution_count": 8,
   "id": "3fd63031",
   "metadata": {},
   "outputs": [],
   "source": [
    "#일별로 date 데이터 변환\n",
    "df['InvoiceDate_date'] = df['InvoiceDate'].map(lambda date: date.strftime('%Y%m%d'))"
   ]
  },
  {
   "cell_type": "markdown",
   "id": "b566d4c3",
   "metadata": {},
   "source": [
    "# 유저 분석"
   ]
  },
  {
   "cell_type": "markdown",
   "id": "a362693b",
   "metadata": {},
   "source": [
    "# Monthly Active Users\n",
    "* 10월, 11월에 활동 유저 수가 늘어나는 패턴이 보임.\n",
    "* mau 값이 2010년 초 800명~ 1000명 안팎이다가 2010년 10월에 1600명대로 급증함. 같은 해 11월까지 증가.\n",
    "* 다음해인 2011년에도 유사한 패턴을 보이며, 주로 연초와 여름 시기에 유저의 구매활동이 저조해 비수기로 볼 수 있음."
   ]
  },
  {
   "cell_type": "code",
   "execution_count": 10,
   "id": "429c2f83",
   "metadata": {},
   "outputs": [
    {
     "data": {
      "image/png": "[encoded data removed]",
      "text/plain": [
       "<Figure size 1440x432 with 1 Axes>"
      ]
     },
     "metadata": {
      "needs_background": "light"
     },
     "output_type": "display_data"
    }
   ],
   "source": [
    "# MAU\n",
    "mau = pd.DataFrame(df.groupby('InvoiceDate_month').nunique()['Customer ID'].reset_index())\n",
    "\n",
    "plt.figure(figsize=(20,6))\n",
    "plt.bar(mau['InvoiceDate_month'], mau['Customer ID'])\n",
    "plt.show()"
   ]
  },
  {
   "cell_type": "markdown",
   "id": "a1f54fd3",
   "metadata": {},
   "source": [
    "# Stickiness\n",
    "\n",
    "* 연말인 11월과 12월에 고착도가 증가하는 경향이 있음. 4월, 5월에도 구매가 많아지면서 고착도가 증가함.\n",
    "* 반면 2-3월과 여름/가을에는 고착도가 하락하는 패턴을 보임."
   ]
  },
  {
   "cell_type": "code",
   "execution_count": 11,
   "id": "0de8e2c6",
   "metadata": {},
   "outputs": [],
   "source": [
    "# DAU\n",
    "dau = pd.DataFrame(df.groupby('InvoiceDate_date').nunique()['Customer ID'].reset_index())\n",
    "\n",
    "# stickiness\n",
    "dau['InvoiceDate_month'] = [x[:-2] for x in dau['InvoiceDate_date']]\n",
    "dam = pd.merge(dau, mau, how='left', on='InvoiceDate_month')\n",
    "dam['stickiness'] = dam['Customer ID_x'] / dam['Customer ID_y'] * 100"
   ]
  },
  {
   "cell_type": "code",
   "execution_count": 23,
   "id": "0a8a40fa",
   "metadata": {},
   "outputs": [],
   "source": [
    "dam_re = pd.DataFrame(dam.groupby('InvoiceDate_month')['stickiness'].mean()).reset_index()"
   ]
  },
  {
   "cell_type": "code",
   "execution_count": 25,
   "id": "66e0ba46",
   "metadata": {},
   "outputs": [
    {
     "data": {
      "image/png": "[encoded data removed]",
      "text/plain": [
       "<Figure size 1440x432 with 1 Axes>"
      ]
     },
     "metadata": {
      "needs_background": "light"
     },
     "output_type": "display_data"
    }
   ],
   "source": [
    "plt.figure(figsize=(20,6))\n",
    "plt.bar(dam_re['InvoiceDate_month'][:-1], dam_re['stickiness'][:-1])\n",
    "plt.show()"
   ]
  },
  {
   "cell_type": "markdown",
   "id": "addf9ed2",
   "metadata": {},
   "source": [
    "# 제품 판매 현황"
   ]
  },
  {
   "cell_type": "markdown",
   "id": "16283ccd",
   "metadata": {},
   "source": [
    "## 주문 건수"
   ]
  },
  {
   "cell_type": "code",
   "execution_count": 26,
   "id": "b26bebd3",
   "metadata": {},
   "outputs": [
    {
     "data": {
      "image/png": "[encoded data removed]",
      "text/plain": [
       "<Figure size 1440x360 with 1 Axes>"
      ]
     },
     "metadata": {
      "needs_background": "light"
     },
     "output_type": "display_data"
    }
   ],
   "source": [
    "invoice = df.groupby('InvoiceDate_month').count()['Invoice'].reset_index()\n",
    "\n",
    "plt.figure(figsize = (20, 5))\n",
    "plt.bar(invoice['InvoiceDate_month'], invoice['Invoice'])\n",
    "plt.show()"
   ]
  },
  {
   "cell_type": "markdown",
   "id": "2c314ff3",
   "metadata": {},
   "source": [
    "## 매출 분석\n",
    "\n",
    "* 주문건수와 매출은 유사한 흐름을 보임. 역시 연말마다 구매 수량 및 매출이 급증하고, 2월과 4월에 가장 낮은 수치를 보임."
   ]
  },
  {
   "cell_type": "code",
   "execution_count": 28,
   "id": "b0b357a6",
   "metadata": {},
   "outputs": [],
   "source": [
    "df['sales'] = df['Quantity'] * df['Price']\n",
    "monthly_sales = df.groupby('InvoiceDate_month')['sales'].sum().reset_index()"
   ]
  },
  {
   "cell_type": "code",
   "execution_count": 30,
   "id": "cd69cdfb",
   "metadata": {},
   "outputs": [
    {
     "data": {
      "image/png": "[encoded data removed]",
      "text/plain": [
       "<Figure size 1440x432 with 1 Axes>"
      ]
     },
     "metadata": {
      "needs_background": "light"
     },
     "output_type": "display_data"
    }
   ],
   "source": [
    "plt.figure(figsize=(20, 6))\n",
    "plt.bar(monthly_sales['InvoiceDate_month'], monthly_sales['sales'])\n",
    "plt.show()"
   ]
  },
  {
   "cell_type": "markdown",
   "id": "dd01bba6",
   "metadata": {},
   "source": [
    "## 주문 건단가\n",
    "    \n",
    "* 주문 건별 단가는 월별로 크게 차이 나지는 않으며, 매출과 주문이 가장 높은 연말에도 건단가는 평균치에 가까움.\n",
    "* 주문 건단가가 가장 높은 것은 주로 매년 9월임.\n",
    "* 2010년에 비해 2011년에는 5월과 6월의 건단가가 높게 나타났음."
   ]
  },
  {
   "cell_type": "code",
   "execution_count": 31,
   "id": "3ab282ef",
   "metadata": {},
   "outputs": [],
   "source": [
    "monthly_sales_re = pd.merge(invoice, monthly_sales, on='InvoiceDate_month')\n",
    "monthly_sales_re['sales_per_order'] = monthly_sales_re['sales'] / monthly_sales_re['Invoice']"
   ]
  },
  {
   "cell_type": "code",
   "execution_count": 33,
   "id": "e1fa57ad",
   "metadata": {},
   "outputs": [
    {
     "data": {
      "image/png": "[encoded data removed]",
      "text/plain": [
       "<Figure size 1440x432 with 1 Axes>"
      ]
     },
     "metadata": {
      "needs_background": "light"
     },
     "output_type": "display_data"
    }
   ],
   "source": [
    "plt.figure(figsize=(20, 6))\n",
    "plt.bar(monthly_sales_re['InvoiceDate_month'], monthly_sales_re['sales_per_order'])\n",
    "plt.show()"
   ]
  },
  {
   "cell_type": "code",
   "execution_count": null,
   "id": "e85ed980",
   "metadata": {},
   "outputs": [],
   "source": []
  }
 ],
 "metadata": {
  "kernelspec": {
   "display_name": "Python 3",
   "language": "python",
   "name": "python3"
  },
  "language_info": {
   "codemirror_mode": {
    "name": "ipython",
    "version": 3
   },
   "file_extension": ".py",
   "mimetype": "text/x-python",
   "name": "python",
   "nbconvert_exporter": "python",
   "pygments_lexer": "ipython3",
   "version": "3.8.8"
  }
 },
 "nbformat": 4,
 "nbformat_minor": 5
}
